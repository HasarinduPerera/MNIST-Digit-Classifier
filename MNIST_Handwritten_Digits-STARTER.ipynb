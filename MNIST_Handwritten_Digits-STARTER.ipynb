{
 "cells": [
  {
   "cell_type": "markdown",
   "metadata": {},
   "source": [
    "# Introduction\n",
    "\n",
    "In this project, you will build a neural network of your own design to evaluate the MNIST dataset.\n",
    "\n",
    "Some of the benchmark results on MNIST include can be found [on Yann LeCun's page](http://yann.lecun.com/exdb/mnist/) and include:\n",
    "\n",
    "88% [Lecun et al., 1998](http://yann.lecun.com/exdb/publis/pdf/lecun-98.pdf)\n",
    "95.3% [Lecun et al., 1998](http://yann.lecun.com/exdb/publis/pdf/lecun-98.pdf)\n",
    "99.65% [Ciresan et al., 2011](http://people.idsia.ch/~juergen/ijcai2011.pdf)\n",
    "\n",
    "MNIST is a great dataset for sanity checking your models, since the accuracy levels achieved by large convolutional neural networks and small linear models are both quite high. This makes it important to be familiar with the data.\n",
    "\n",
    "## Installation"
   ]
  },
  {
   "cell_type": "code",
   "execution_count": 1,
   "metadata": {},
   "outputs": [],
   "source": [
    "# Update the PATH to include the user installation directory. \n",
    "import os\n",
    "os.environ['PATH'] = f\"{os.environ['PATH']}:/root/.local/bin\"\n",
    "\n",
    "# Restart the Kernel before you move on to the next step."
   ]
  },
  {
   "cell_type": "markdown",
   "metadata": {},
   "source": [
    "#### Important: Restart the Kernel before you move on to the next step."
   ]
  },
  {
   "cell_type": "code",
   "execution_count": 2,
   "metadata": {},
   "outputs": [
    {
     "name": "stdout",
     "output_type": "stream",
     "text": [
      "Defaulting to user installation because normal site-packages is not writeable\n",
      "Requirement already satisfied: opencv-python-headless==4.5.3.56 in /root/.local/lib/python3.7/site-packages (from -r requirements.txt (line 1)) (4.5.3.56)\n",
      "Requirement already satisfied: matplotlib==3.4.3 in /opt/conda/lib/python3.7/site-packages (from -r requirements.txt (line 2)) (3.4.3)\n",
      "Requirement already satisfied: numpy==1.21.2 in /opt/conda/lib/python3.7/site-packages (from -r requirements.txt (line 3)) (1.21.2)\n",
      "Requirement already satisfied: pillow==7.0.0 in /opt/conda/lib/python3.7/site-packages (from -r requirements.txt (line 4)) (7.0.0)\n",
      "Requirement already satisfied: bokeh==2.1.1 in /root/.local/lib/python3.7/site-packages (from -r requirements.txt (line 5)) (2.1.1)\n",
      "Requirement already satisfied: torch==1.11.0 in /opt/conda/lib/python3.7/site-packages (from -r requirements.txt (line 6)) (1.11.0)\n",
      "Requirement already satisfied: torchvision==0.12.0 in /root/.local/lib/python3.7/site-packages (from -r requirements.txt (line 7)) (0.12.0)\n",
      "Requirement already satisfied: tqdm==4.63.0 in /root/.local/lib/python3.7/site-packages (from -r requirements.txt (line 8)) (4.63.0)\n",
      "Requirement already satisfied: ipywidgets==7.7.0 in /root/.local/lib/python3.7/site-packages (from -r requirements.txt (line 9)) (7.7.0)\n",
      "Requirement already satisfied: livelossplot==0.5.4 in /root/.local/lib/python3.7/site-packages (from -r requirements.txt (line 10)) (0.5.4)\n",
      "Requirement already satisfied: pytest==7.1.1 in /root/.local/lib/python3.7/site-packages (from -r requirements.txt (line 11)) (7.1.1)\n",
      "Requirement already satisfied: pandas==1.3.5 in /root/.local/lib/python3.7/site-packages (from -r requirements.txt (line 12)) (1.3.5)\n",
      "Requirement already satisfied: seaborn==0.11.2 in /root/.local/lib/python3.7/site-packages (from -r requirements.txt (line 13)) (0.11.2)\n",
      "Requirement already satisfied: jupyter==1.0.0 in /root/.local/lib/python3.7/site-packages (from -r requirements.txt (line 14)) (1.0.0)\n",
      "Requirement already satisfied: ipykernel==4.10.0 in /root/.local/lib/python3.7/site-packages (from -r requirements.txt (line 15)) (4.10.0)\n",
      "Requirement already satisfied: python-dateutil>=2.7 in /opt/conda/lib/python3.7/site-packages (from matplotlib==3.4.3->-r requirements.txt (line 2)) (2.8.1)\n",
      "Requirement already satisfied: pyparsing>=2.2.1 in /opt/conda/lib/python3.7/site-packages (from matplotlib==3.4.3->-r requirements.txt (line 2)) (2.4.6)\n",
      "Requirement already satisfied: cycler>=0.10 in /opt/conda/lib/python3.7/site-packages (from matplotlib==3.4.3->-r requirements.txt (line 2)) (0.10.0)\n",
      "Requirement already satisfied: kiwisolver>=1.0.1 in /opt/conda/lib/python3.7/site-packages (from matplotlib==3.4.3->-r requirements.txt (line 2)) (1.1.0)\n",
      "Requirement already satisfied: packaging>=16.8 in /opt/conda/lib/python3.7/site-packages (from bokeh==2.1.1->-r requirements.txt (line 5)) (20.1)\n",
      "Requirement already satisfied: PyYAML>=3.10 in /opt/conda/lib/python3.7/site-packages (from bokeh==2.1.1->-r requirements.txt (line 5)) (5.3)\n",
      "Requirement already satisfied: tornado>=5.1 in /opt/conda/lib/python3.7/site-packages (from bokeh==2.1.1->-r requirements.txt (line 5)) (5.1.1)\n",
      "Requirement already satisfied: Jinja2>=2.7 in /opt/conda/lib/python3.7/site-packages (from bokeh==2.1.1->-r requirements.txt (line 5)) (2.11.1)\n",
      "Requirement already satisfied: typing-extensions>=3.7.4 in /opt/conda/lib/python3.7/site-packages (from bokeh==2.1.1->-r requirements.txt (line 5)) (3.7.4.1)\n",
      "Requirement already satisfied: requests in /opt/conda/lib/python3.7/site-packages (from torchvision==0.12.0->-r requirements.txt (line 7)) (2.23.0)\n",
      "Requirement already satisfied: ipython-genutils~=0.2.0 in /opt/conda/lib/python3.7/site-packages (from ipywidgets==7.7.0->-r requirements.txt (line 9)) (0.2.0)\n",
      "Requirement already satisfied: traitlets>=4.3.1 in /opt/conda/lib/python3.7/site-packages (from ipywidgets==7.7.0->-r requirements.txt (line 9)) (4.3.3)\n",
      "Requirement already satisfied: ipython>=4.0.0; python_version >= \"3.3\" in /opt/conda/lib/python3.7/site-packages (from ipywidgets==7.7.0->-r requirements.txt (line 9)) (7.13.0)\n",
      "Requirement already satisfied: nbformat>=4.2.0 in /opt/conda/lib/python3.7/site-packages (from ipywidgets==7.7.0->-r requirements.txt (line 9)) (5.0.4)\n",
      "Requirement already satisfied: jupyterlab-widgets>=1.0.0; python_version >= \"3.6\" in /root/.local/lib/python3.7/site-packages (from ipywidgets==7.7.0->-r requirements.txt (line 9)) (3.0.9)\n",
      "Requirement already satisfied: widgetsnbextension~=3.6.0 in /root/.local/lib/python3.7/site-packages (from ipywidgets==7.7.0->-r requirements.txt (line 9)) (3.6.6)\n",
      "Requirement already satisfied: importlib-metadata>=0.12; python_version < \"3.8\" in /opt/conda/lib/python3.7/site-packages (from pytest==7.1.1->-r requirements.txt (line 11)) (1.5.0)\n",
      "Requirement already satisfied: tomli>=1.0.0 in /root/.local/lib/python3.7/site-packages (from pytest==7.1.1->-r requirements.txt (line 11)) (2.0.1)\n",
      "Requirement already satisfied: iniconfig in /root/.local/lib/python3.7/site-packages (from pytest==7.1.1->-r requirements.txt (line 11)) (2.0.0)\n",
      "Requirement already satisfied: pluggy<2.0,>=0.12 in /root/.local/lib/python3.7/site-packages (from pytest==7.1.1->-r requirements.txt (line 11)) (1.2.0)\n",
      "Requirement already satisfied: attrs>=19.2.0 in /opt/conda/lib/python3.7/site-packages (from pytest==7.1.1->-r requirements.txt (line 11)) (19.3.0)\n",
      "Requirement already satisfied: py>=1.8.2 in /root/.local/lib/python3.7/site-packages (from pytest==7.1.1->-r requirements.txt (line 11)) (1.11.0)\n",
      "Requirement already satisfied: pytz>=2017.3 in /opt/conda/lib/python3.7/site-packages (from pandas==1.3.5->-r requirements.txt (line 12)) (2019.3)\n",
      "Requirement already satisfied: scipy>=1.0 in /opt/conda/lib/python3.7/site-packages (from seaborn==0.11.2->-r requirements.txt (line 13)) (1.7.1)\n",
      "Requirement already satisfied: notebook in /opt/conda/lib/python3.7/site-packages (from jupyter==1.0.0->-r requirements.txt (line 14)) (5.7.4)\n",
      "Requirement already satisfied: jupyter-console in /root/.local/lib/python3.7/site-packages (from jupyter==1.0.0->-r requirements.txt (line 14)) (6.6.3)\n",
      "Requirement already satisfied: qtconsole in /root/.local/lib/python3.7/site-packages (from jupyter==1.0.0->-r requirements.txt (line 14)) (5.4.4)\n",
      "Requirement already satisfied: nbconvert in /opt/conda/lib/python3.7/site-packages (from jupyter==1.0.0->-r requirements.txt (line 14)) (5.6.1)\n",
      "Requirement already satisfied: jupyter-client in /opt/conda/lib/python3.7/site-packages (from ipykernel==4.10.0->-r requirements.txt (line 15)) (6.0.0)\n",
      "Requirement already satisfied: six>=1.5 in /opt/conda/lib/python3.7/site-packages (from python-dateutil>=2.7->matplotlib==3.4.3->-r requirements.txt (line 2)) (1.16.0)\n",
      "Requirement already satisfied: setuptools in /opt/conda/lib/python3.7/site-packages (from kiwisolver>=1.0.1->matplotlib==3.4.3->-r requirements.txt (line 2)) (45.2.0.post20200209)\n",
      "Requirement already satisfied: MarkupSafe>=0.23 in /opt/conda/lib/python3.7/site-packages (from Jinja2>=2.7->bokeh==2.1.1->-r requirements.txt (line 5)) (1.1.1)\n",
      "Requirement already satisfied: certifi>=2017.4.17 in /opt/conda/lib/python3.7/site-packages (from requests->torchvision==0.12.0->-r requirements.txt (line 7)) (2019.11.28)\n",
      "Requirement already satisfied: chardet<4,>=3.0.2 in /opt/conda/lib/python3.7/site-packages (from requests->torchvision==0.12.0->-r requirements.txt (line 7)) (3.0.4)\n",
      "Requirement already satisfied: idna<3,>=2.5 in /opt/conda/lib/python3.7/site-packages (from requests->torchvision==0.12.0->-r requirements.txt (line 7)) (2.9)\n",
      "Requirement already satisfied: urllib3!=1.25.0,!=1.25.1,<1.26,>=1.21.1 in /opt/conda/lib/python3.7/site-packages (from requests->torchvision==0.12.0->-r requirements.txt (line 7)) (1.25.7)\n",
      "Requirement already satisfied: decorator in /opt/conda/lib/python3.7/site-packages (from traitlets>=4.3.1->ipywidgets==7.7.0->-r requirements.txt (line 9)) (4.4.2)\n",
      "Requirement already satisfied: prompt-toolkit!=3.0.0,!=3.0.1,<3.1.0,>=2.0.0 in /opt/conda/lib/python3.7/site-packages (from ipython>=4.0.0; python_version >= \"3.3\"->ipywidgets==7.7.0->-r requirements.txt (line 9)) (3.0.3)\n",
      "Requirement already satisfied: pickleshare in /opt/conda/lib/python3.7/site-packages (from ipython>=4.0.0; python_version >= \"3.3\"->ipywidgets==7.7.0->-r requirements.txt (line 9)) (0.7.5)\n",
      "Requirement already satisfied: backcall in /opt/conda/lib/python3.7/site-packages (from ipython>=4.0.0; python_version >= \"3.3\"->ipywidgets==7.7.0->-r requirements.txt (line 9)) (0.1.0)\n",
      "Requirement already satisfied: pygments in /opt/conda/lib/python3.7/site-packages (from ipython>=4.0.0; python_version >= \"3.3\"->ipywidgets==7.7.0->-r requirements.txt (line 9)) (2.5.2)\n"
     ]
    },
    {
     "name": "stdout",
     "output_type": "stream",
     "text": [
      "Requirement already satisfied: jedi>=0.10 in /opt/conda/lib/python3.7/site-packages (from ipython>=4.0.0; python_version >= \"3.3\"->ipywidgets==7.7.0->-r requirements.txt (line 9)) (0.16.0)\n",
      "Requirement already satisfied: pexpect; sys_platform != \"win32\" in /opt/conda/lib/python3.7/site-packages (from ipython>=4.0.0; python_version >= \"3.3\"->ipywidgets==7.7.0->-r requirements.txt (line 9)) (4.8.0)\n",
      "Requirement already satisfied: jsonschema!=2.5.0,>=2.4 in /opt/conda/lib/python3.7/site-packages (from nbformat>=4.2.0->ipywidgets==7.7.0->-r requirements.txt (line 9)) (3.2.0)\n",
      "Requirement already satisfied: jupyter-core in /opt/conda/lib/python3.7/site-packages (from nbformat>=4.2.0->ipywidgets==7.7.0->-r requirements.txt (line 9)) (4.6.3)\n",
      "Requirement already satisfied: zipp>=0.5 in /opt/conda/lib/python3.7/site-packages (from importlib-metadata>=0.12; python_version < \"3.8\"->pytest==7.1.1->-r requirements.txt (line 11)) (3.0.0)\n",
      "Requirement already satisfied: pyzmq>=17 in /opt/conda/lib/python3.7/site-packages (from notebook->jupyter==1.0.0->-r requirements.txt (line 14)) (19.0.0)\n",
      "Requirement already satisfied: prometheus-client in /opt/conda/lib/python3.7/site-packages (from notebook->jupyter==1.0.0->-r requirements.txt (line 14)) (0.7.1)\n",
      "Requirement already satisfied: terminado>=0.8.1 in /opt/conda/lib/python3.7/site-packages (from notebook->jupyter==1.0.0->-r requirements.txt (line 14)) (0.8.3)\n",
      "Requirement already satisfied: Send2Trash in /opt/conda/lib/python3.7/site-packages (from notebook->jupyter==1.0.0->-r requirements.txt (line 14)) (1.5.0)\n",
      "Requirement already satisfied: qtpy>=2.4.0 in /root/.local/lib/python3.7/site-packages (from qtconsole->jupyter==1.0.0->-r requirements.txt (line 14)) (2.4.0)\n",
      "Requirement already satisfied: mistune<2,>=0.8.1 in /opt/conda/lib/python3.7/site-packages (from nbconvert->jupyter==1.0.0->-r requirements.txt (line 14)) (0.8.4)\n",
      "Requirement already satisfied: bleach in /opt/conda/lib/python3.7/site-packages (from nbconvert->jupyter==1.0.0->-r requirements.txt (line 14)) (3.1.1)\n",
      "Requirement already satisfied: defusedxml in /opt/conda/lib/python3.7/site-packages (from nbconvert->jupyter==1.0.0->-r requirements.txt (line 14)) (0.6.0)\n",
      "Requirement already satisfied: pandocfilters>=1.4.1 in /opt/conda/lib/python3.7/site-packages (from nbconvert->jupyter==1.0.0->-r requirements.txt (line 14)) (1.4.2)\n",
      "Requirement already satisfied: testpath in /opt/conda/lib/python3.7/site-packages (from nbconvert->jupyter==1.0.0->-r requirements.txt (line 14)) (0.4.4)\n",
      "Requirement already satisfied: entrypoints>=0.2.2 in /opt/conda/lib/python3.7/site-packages (from nbconvert->jupyter==1.0.0->-r requirements.txt (line 14)) (0.3)\n",
      "Requirement already satisfied: wcwidth in /opt/conda/lib/python3.7/site-packages (from prompt-toolkit!=3.0.0,!=3.0.1,<3.1.0,>=2.0.0->ipython>=4.0.0; python_version >= \"3.3\"->ipywidgets==7.7.0->-r requirements.txt (line 9)) (0.1.8)\n",
      "Requirement already satisfied: parso>=0.5.2 in /opt/conda/lib/python3.7/site-packages (from jedi>=0.10->ipython>=4.0.0; python_version >= \"3.3\"->ipywidgets==7.7.0->-r requirements.txt (line 9)) (0.6.1)\n",
      "Requirement already satisfied: ptyprocess>=0.5 in /opt/conda/lib/python3.7/site-packages (from pexpect; sys_platform != \"win32\"->ipython>=4.0.0; python_version >= \"3.3\"->ipywidgets==7.7.0->-r requirements.txt (line 9)) (0.6.0)\n",
      "Requirement already satisfied: pyrsistent>=0.14.0 in /opt/conda/lib/python3.7/site-packages (from jsonschema!=2.5.0,>=2.4->nbformat>=4.2.0->ipywidgets==7.7.0->-r requirements.txt (line 9)) (0.15.7)\n",
      "Requirement already satisfied: webencodings in /opt/conda/lib/python3.7/site-packages (from bleach->nbconvert->jupyter==1.0.0->-r requirements.txt (line 14)) (0.5.1)\n"
     ]
    }
   ],
   "source": [
    "# Install requirements\n",
    "!python -m pip install -r requirements.txt"
   ]
  },
  {
   "cell_type": "markdown",
   "metadata": {},
   "source": [
    "## Imports"
   ]
  },
  {
   "cell_type": "code",
   "execution_count": 3,
   "metadata": {},
   "outputs": [],
   "source": [
    "## This cell contains the essential imports you will need – DO NOT CHANGE THE CONTENTS! ##\n",
    "import torch\n",
    "import torch.nn as nn\n",
    "import torch.nn.functional as F\n",
    "import torch.optim as optim\n",
    "import torchvision\n",
    "import torchvision.transforms as transforms\n",
    "import matplotlib.pyplot as plt\n",
    "import numpy as np"
   ]
  },
  {
   "cell_type": "markdown",
   "metadata": {},
   "source": [
    "## Load the Dataset\n",
    "\n",
    "Specify your transforms as a list if you intend to .\n",
    "The transforms module is already loaded as `transforms`.\n",
    "\n",
    "MNIST is fortunately included in the torchvision module.\n",
    "Then, you can create your dataset using the `MNIST` object from `torchvision.datasets` ([the documentation is available here](https://pytorch.org/vision/stable/datasets.html#mnist)).\n",
    "Make sure to specify `download=True`! \n",
    "\n",
    "Once your dataset is created, you'll also need to define a `DataLoader` from the `torch.utils.data` module for both the train and the test set."
   ]
  },
  {
   "cell_type": "code",
   "execution_count": 4,
   "metadata": {},
   "outputs": [],
   "source": [
    "# Define transforms\n",
    "transform = transforms.Compose([\n",
    "    transforms.ToTensor(),\n",
    "    transforms.Normalize((0.5,), (0.5,))\n",
    "])\n",
    "\n",
    "# Create training set and define training dataloader\n",
    "train_dataset = torchvision.datasets.MNIST(root='./data', train=True, download=True, transform=transform)\n",
    "train_loader = torch.utils.data.DataLoader(train_dataset, batch_size=64, shuffle=True)\n",
    "\n",
    "# Create test set and define test dataloader\n",
    "test_dataset = torchvision.datasets.MNIST(root='./data', train=False, download=True, transform=transform)\n",
    "test_loader = torch.utils.data.DataLoader(test_dataset, batch_size=64, shuffle=False)"
   ]
  },
  {
   "cell_type": "markdown",
   "metadata": {},
   "source": [
    "## Justify your preprocessing\n",
    "\n",
    "In your own words, why did you choose the transforms you chose? If you didn't use any preprocessing steps, why not?"
   ]
  },
  {
   "cell_type": "markdown",
   "metadata": {},
   "source": [
    "I choose the transforms above because naturally pytorch work with tensors not with raw images. It is acually a efficiant way to do the calculations. First line converts the image into a Pytorch tensor and the second line normalizes the pixel values to a range of [-1, 1]."
   ]
  },
  {
   "cell_type": "markdown",
   "metadata": {},
   "source": [
    "## Explore the Dataset\n",
    "Using matplotlib, numpy, and torch, explore the dimensions of your data.\n",
    "\n",
    "You can view images using the `show5` function defined below – it takes a data loader as an argument.\n",
    "Remember that normalized images will look really weird to you! You may want to try changing your transforms to view images.\n",
    "Typically using no transforms other than `toTensor()` works well for viewing – but not as well for training your network.\n",
    "If `show5` doesn't work, go back and check your code for creating your data loaders and your training/test sets."
   ]
  },
  {
   "cell_type": "code",
   "execution_count": 5,
   "metadata": {},
   "outputs": [],
   "source": [
    "## This cell contains a function for showing 5 images from a dataloader – DO NOT CHANGE THE CONTENTS! ##\n",
    "def show5(img_loader):\n",
    "    dataiter = iter(img_loader)\n",
    "    \n",
    "    batch = next(dataiter)\n",
    "    labels = batch[1][0:5]\n",
    "    images = batch[0][0:5]\n",
    "    for i in range(5):\n",
    "        print(int(labels[i].detach()))\n",
    "    \n",
    "        image = images[i].numpy()\n",
    "        plt.imshow(image.T.squeeze().T)\n",
    "        plt.show()"
   ]
  },
  {
   "cell_type": "code",
   "execution_count": 6,
   "metadata": {},
   "outputs": [
    {
     "name": "stdout",
     "output_type": "stream",
     "text": [
      "7\n"
     ]
    },
    {
     "data": {
      "image/png": "[encoded data removed]",
      "text/plain": [
       "<Figure size 432x288 with 1 Axes>"
      ]
     },
     "metadata": {
      "needs_background": "light"
     },
     "output_type": "display_data"
    },
    {
     "name": "stdout",
     "output_type": "stream",
     "text": [
      "7\n"
     ]
    },
    {
     "data": {
      "image/png": "[encoded data removed]",
      "text/plain": [
       "<Figure size 432x288 with 1 Axes>"
      ]
     },
     "metadata": {
      "needs_background": "light"
     },
     "output_type": "display_data"
    },
    {
     "name": "stdout",
     "output_type": "stream",
     "text": [
      "6\n"
     ]
    },
    {
     "data": {
      "image/png": "[encoded data removed]",
      "text/plain": [
       "<Figure size 432x288 with 1 Axes>"
      ]
     },
     "metadata": {
      "needs_background": "light"
     },
     "output_type": "display_data"
    },
    {
     "name": "stdout",
     "output_type": "stream",
     "text": [
      "6\n"
     ]
    },
    {
     "data": {
      "image/png": "[encoded data removed]",
      "text/plain": [
       "<Figure size 432x288 with 1 Axes>"
      ]
     },
     "metadata": {
      "needs_background": "light"
     },
     "output_type": "display_data"
    },
    {
     "name": "stdout",
     "output_type": "stream",
     "text": [
      "5\n"
     ]
    },
    {
     "data": {
      "image/png": "[encoded data removed]",
      "text/plain": [
       "<Figure size 432x288 with 1 Axes>"
      ]
     },
     "metadata": {
      "needs_background": "light"
     },
     "output_type": "display_data"
    }
   ],
   "source": [
    "# Explore data\n",
    "show5(train_loader)"
   ]
  },
  {
   "cell_type": "markdown",
   "metadata": {},
   "source": [
    "## Build your Neural Network\n",
    "Using the layers in `torch.nn` (which has been imported as `nn`) and the `torch.nn.functional` module (imported as `F`), construct a neural network based on the parameters of the dataset.\n",
    "Use any architecture you like. \n",
    "\n",
    "*Note*: If you did not flatten your tensors in your transforms or as part of your preprocessing and you are using only `Linear` layers, make sure to use the `Flatten` layer in your network!"
   ]
  },
  {
   "cell_type": "code",
   "execution_count": 7,
   "metadata": {},
   "outputs": [],
   "source": [
    "# Define network\n",
    "class Net(nn.Module):\n",
    "    def __init__(self):\n",
    "        super(Net, self).__init__()\n",
    "        self.fc1 = nn.Linear(28*28, 100)\n",
    "        self.fc2 = nn.Linear(100, 10)\n",
    "        self.dropout = nn.Dropout(0.2)\n",
    "\n",
    "    def forward(self, x):\n",
    "        x = x.view(-1, 28*28)\n",
    "        x = torch.sigmoid(self.fc1(x))\n",
    "        x = self.dropout(x)\n",
    "        x = self.fc2(x)\n",
    "        return x\n",
    "    \n",
    "net = Net()"
   ]
  },
  {
   "cell_type": "markdown",
   "metadata": {},
   "source": [
    "Specify a loss function and an optimizer, and instantiate the model.\n",
    "\n",
    "If you use a less common loss function, please note why you chose that loss function in a comment."
   ]
  },
  {
   "cell_type": "code",
   "execution_count": 8,
   "metadata": {},
   "outputs": [],
   "source": [
    "# Define loss function and optimizer\n",
    "criterion = nn.CrossEntropyLoss()\n",
    "optimizer = optim.SGD(net.parameters(), lr=0.1, momentum=0.9)"
   ]
  },
  {
   "cell_type": "markdown",
   "metadata": {},
   "source": [
    "## Running your Neural Network\n",
    "Use whatever method you like to train your neural network, and ensure you record the average loss at each epoch. \n",
    "Don't forget to use `torch.device()` and the `.to()` method for both your model and your data if you are using GPU!\n",
    "\n",
    "If you want to print your loss **during** each epoch, you can use the `enumerate` function and print the loss after a set number of batches. 250 batches works well for most people!"
   ]
  },
  {
   "cell_type": "code",
   "execution_count": 9,
   "metadata": {},
   "outputs": [
    {
     "name": "stdout",
     "output_type": "stream",
     "text": [
      "cuda:0\n"
     ]
    },
    {
     "data": {
      "text/plain": [
       "Net(\n",
       "  (fc1): Linear(in_features=784, out_features=100, bias=True)\n",
       "  (fc2): Linear(in_features=100, out_features=10, bias=True)\n",
       "  (dropout): Dropout(p=0.2, inplace=False)\n",
       ")"
      ]
     },
     "execution_count": 9,
     "metadata": {},
     "output_type": "execute_result"
    }
   ],
   "source": [
    "# Move network and data to GPU if available\n",
    "device = torch.device(\"cuda:0\" if torch.cuda.is_available() else \"cpu\")\n",
    "print(device)\n",
    "net.to(device)"
   ]
  },
  {
   "cell_type": "code",
   "execution_count": 10,
   "metadata": {},
   "outputs": [],
   "source": [
    "# Train network\n",
    "def train(net, train_loader, criterion, optimizer, device, epochs, print_every):\n",
    "    net.train() # Set network to training mode\n",
    "    losses = [] # Initialize losses for plotting\n",
    "    running_loss = 0.0\n",
    "    for epoch in range(epochs):\n",
    "        for i, data in enumerate(train_loader, 0):\n",
    "            inputs, labels = data\n",
    "            inputs, labels = inputs.to(device), labels.to(device) # Move data to GPU if available\n",
    "\n",
    "            # Zero the parameter gradients\n",
    "            optimizer.zero_grad()\n",
    "\n",
    "            # Forward + backward + optimize\n",
    "            outputs = net(inputs)\n",
    "            loss = criterion(outputs, labels)\n",
    "            loss.backward()\n",
    "            optimizer.step()\n",
    "\n",
    "            # Print statistics\n",
    "            running_loss += loss.item()\n",
    "\n",
    "            if i % print_every == print_every-1:\n",
    "                print('[%d, %5d] loss: %.3f' % (epoch+1, i+1, running_loss/print_every))\n",
    "                # Collect running loss for plotting\n",
    "                losses.append(running_loss/print_every)\n",
    "                running_loss = 0.0\n",
    "    return losses"
   ]
  },
  {
   "cell_type": "code",
   "execution_count": 11,
   "metadata": {},
   "outputs": [
    {
     "name": "stdout",
     "output_type": "stream",
     "text": [
      "[1,   100] loss: 0.932\n",
      "[1,   200] loss: 0.466\n",
      "[1,   300] loss: 0.396\n",
      "[1,   400] loss: 0.341\n",
      "[1,   500] loss: 0.312\n",
      "[1,   600] loss: 0.303\n",
      "[1,   700] loss: 0.281\n",
      "[1,   800] loss: 0.274\n",
      "[1,   900] loss: 0.267\n",
      "[2,   100] loss: 0.316\n",
      "[2,   200] loss: 0.223\n",
      "[2,   300] loss: 0.224\n",
      "[2,   400] loss: 0.217\n",
      "[2,   500] loss: 0.222\n",
      "[2,   600] loss: 0.247\n",
      "[2,   700] loss: 0.211\n",
      "[2,   800] loss: 0.205\n",
      "[2,   900] loss: 0.216\n",
      "[3,   100] loss: 0.261\n",
      "[3,   200] loss: 0.198\n",
      "[3,   300] loss: 0.181\n",
      "[3,   400] loss: 0.186\n",
      "[3,   500] loss: 0.176\n",
      "[3,   600] loss: 0.173\n",
      "[3,   700] loss: 0.182\n",
      "[3,   800] loss: 0.175\n",
      "[3,   900] loss: 0.188\n",
      "[4,   100] loss: 0.215\n",
      "[4,   200] loss: 0.149\n",
      "[4,   300] loss: 0.171\n",
      "[4,   400] loss: 0.159\n",
      "[4,   500] loss: 0.153\n",
      "[4,   600] loss: 0.160\n",
      "[4,   700] loss: 0.167\n",
      "[4,   800] loss: 0.153\n",
      "[4,   900] loss: 0.137\n",
      "[5,   100] loss: 0.206\n",
      "[5,   200] loss: 0.163\n",
      "[5,   300] loss: 0.151\n",
      "[5,   400] loss: 0.137\n",
      "[5,   500] loss: 0.147\n",
      "[5,   600] loss: 0.143\n",
      "[5,   700] loss: 0.160\n",
      "[5,   800] loss: 0.143\n",
      "[5,   900] loss: 0.145\n",
      "[6,   100] loss: 0.185\n",
      "[6,   200] loss: 0.119\n",
      "[6,   300] loss: 0.137\n",
      "[6,   400] loss: 0.139\n",
      "[6,   500] loss: 0.139\n",
      "[6,   600] loss: 0.151\n",
      "[6,   700] loss: 0.148\n",
      "[6,   800] loss: 0.136\n",
      "[6,   900] loss: 0.134\n",
      "[7,   100] loss: 0.161\n",
      "[7,   200] loss: 0.130\n",
      "[7,   300] loss: 0.126\n",
      "[7,   400] loss: 0.127\n",
      "[7,   500] loss: 0.121\n",
      "[7,   600] loss: 0.126\n",
      "[7,   700] loss: 0.125\n",
      "[7,   800] loss: 0.135\n",
      "[7,   900] loss: 0.142\n",
      "[8,   100] loss: 0.187\n",
      "[8,   200] loss: 0.120\n",
      "[8,   300] loss: 0.120\n",
      "[8,   400] loss: 0.120\n",
      "[8,   500] loss: 0.112\n",
      "[8,   600] loss: 0.104\n",
      "[8,   700] loss: 0.111\n",
      "[8,   800] loss: 0.139\n",
      "[8,   900] loss: 0.129\n",
      "[9,   100] loss: 0.159\n",
      "[9,   200] loss: 0.113\n",
      "[9,   300] loss: 0.114\n",
      "[9,   400] loss: 0.116\n",
      "[9,   500] loss: 0.116\n",
      "[9,   600] loss: 0.110\n",
      "[9,   700] loss: 0.131\n",
      "[9,   800] loss: 0.107\n",
      "[9,   900] loss: 0.122\n",
      "[10,   100] loss: 0.156\n",
      "[10,   200] loss: 0.106\n",
      "[10,   300] loss: 0.090\n",
      "[10,   400] loss: 0.117\n",
      "[10,   500] loss: 0.122\n",
      "[10,   600] loss: 0.119\n",
      "[10,   700] loss: 0.107\n",
      "[10,   800] loss: 0.101\n",
      "[10,   900] loss: 0.123\n",
      "[11,   100] loss: 0.143\n",
      "[11,   200] loss: 0.101\n",
      "[11,   300] loss: 0.120\n",
      "[11,   400] loss: 0.113\n",
      "[11,   500] loss: 0.106\n",
      "[11,   600] loss: 0.101\n",
      "[11,   700] loss: 0.097\n",
      "[11,   800] loss: 0.107\n",
      "[11,   900] loss: 0.097\n",
      "[12,   100] loss: 0.139\n",
      "[12,   200] loss: 0.085\n",
      "[12,   300] loss: 0.102\n",
      "[12,   400] loss: 0.102\n",
      "[12,   500] loss: 0.093\n",
      "[12,   600] loss: 0.098\n",
      "[12,   700] loss: 0.104\n",
      "[12,   800] loss: 0.116\n",
      "[12,   900] loss: 0.111\n",
      "[13,   100] loss: 0.127\n",
      "[13,   200] loss: 0.093\n",
      "[13,   300] loss: 0.090\n",
      "[13,   400] loss: 0.104\n",
      "[13,   500] loss: 0.098\n",
      "[13,   600] loss: 0.105\n",
      "[13,   700] loss: 0.095\n",
      "[13,   800] loss: 0.099\n",
      "[13,   900] loss: 0.100\n",
      "[14,   100] loss: 0.128\n",
      "[14,   200] loss: 0.102\n",
      "[14,   300] loss: 0.091\n",
      "[14,   400] loss: 0.095\n",
      "[14,   500] loss: 0.102\n",
      "[14,   600] loss: 0.093\n",
      "[14,   700] loss: 0.109\n",
      "[14,   800] loss: 0.100\n",
      "[14,   900] loss: 0.100\n",
      "[15,   100] loss: 0.129\n",
      "[15,   200] loss: 0.105\n",
      "[15,   300] loss: 0.089\n",
      "[15,   400] loss: 0.093\n",
      "[15,   500] loss: 0.091\n",
      "[15,   600] loss: 0.097\n",
      "[15,   700] loss: 0.095\n",
      "[15,   800] loss: 0.085\n",
      "[15,   900] loss: 0.089\n",
      "[16,   100] loss: 0.116\n",
      "[16,   200] loss: 0.085\n",
      "[16,   300] loss: 0.085\n",
      "[16,   400] loss: 0.092\n",
      "[16,   500] loss: 0.087\n",
      "[16,   600] loss: 0.093\n",
      "[16,   700] loss: 0.111\n",
      "[16,   800] loss: 0.083\n",
      "[16,   900] loss: 0.087\n",
      "[17,   100] loss: 0.127\n",
      "[17,   200] loss: 0.081\n",
      "[17,   300] loss: 0.089\n",
      "[17,   400] loss: 0.087\n",
      "[17,   500] loss: 0.074\n",
      "[17,   600] loss: 0.090\n",
      "[17,   700] loss: 0.078\n",
      "[17,   800] loss: 0.096\n",
      "[17,   900] loss: 0.093\n",
      "[18,   100] loss: 0.121\n",
      "[18,   200] loss: 0.082\n",
      "[18,   300] loss: 0.090\n",
      "[18,   400] loss: 0.069\n",
      "[18,   500] loss: 0.094\n",
      "[18,   600] loss: 0.079\n",
      "[18,   700] loss: 0.082\n",
      "[18,   800] loss: 0.087\n",
      "[18,   900] loss: 0.094\n",
      "[19,   100] loss: 0.110\n",
      "[19,   200] loss: 0.075\n",
      "[19,   300] loss: 0.074\n",
      "[19,   400] loss: 0.078\n",
      "[19,   500] loss: 0.078\n",
      "[19,   600] loss: 0.076\n",
      "[19,   700] loss: 0.085\n",
      "[19,   800] loss: 0.081\n",
      "[19,   900] loss: 0.081\n",
      "[20,   100] loss: 0.120\n",
      "[20,   200] loss: 0.079\n",
      "[20,   300] loss: 0.085\n",
      "[20,   400] loss: 0.097\n",
      "[20,   500] loss: 0.069\n",
      "[20,   600] loss: 0.087\n",
      "[20,   700] loss: 0.079\n",
      "[20,   800] loss: 0.081\n",
      "[20,   900] loss: 0.078\n",
      "Finished Training\n"
     ]
    }
   ],
   "source": [
    "train_loss = train(net, train_loader, criterion, optimizer, device, epochs=20, print_every=100)\n",
    "#train(net, train_loader, criterion, optimizer, device, epochs=5, print_every=1000)\n",
    "print('Finished Training')"
   ]
  },
  {
   "cell_type": "markdown",
   "metadata": {},
   "source": [
    "Plot the training loss (and validation loss/accuracy, if recorded)."
   ]
  },
  {
   "cell_type": "code",
   "execution_count": 12,
   "metadata": {},
   "outputs": [
    {
     "data": {
      "image/png": "[encoded data removed]",
      "text/plain": [
       "<Figure size 432x288 with 1 Axes>"
      ]
     },
     "metadata": {
      "needs_background": "light"
     },
     "output_type": "display_data"
    }
   ],
   "source": [
    "# Plot training loss\n",
    "def plot_losses(losses):\n",
    "    plt.plot(losses)\n",
    "    plt.title('Training loss')\n",
    "    plt.xlabel('Iteration')\n",
    "    plt.ylabel('Loss')\n",
    "    plt.show()\n",
    "\n",
    "plot_losses(train_loss)"
   ]
  },
  {
   "cell_type": "code",
   "execution_count": 13,
   "metadata": {},
   "outputs": [],
   "source": [
    "# Save model\n",
    "PATH = './mnist_net.pth'\n",
    "torch.save(net.state_dict(), PATH)"
   ]
  },
  {
   "cell_type": "markdown",
   "metadata": {},
   "source": [
    "## Testing your model\n",
    "Using the previously created `DataLoader` for the test set, compute the percentage of correct predictions using the highest probability prediction. \n",
    "\n",
    "If your accuracy is over 90%, great work, but see if you can push a bit further! \n",
    "If your accuracy is under 90%, you'll need to make improvements.\n",
    "Go back and check your model architecture, loss function, and optimizer to make sure they're appropriate for an image classification task."
   ]
  },
  {
   "cell_type": "code",
   "execution_count": 14,
   "metadata": {},
   "outputs": [
    {
     "name": "stdout",
     "output_type": "stream",
     "text": [
      "Accuracy: 97 %\n"
     ]
    }
   ],
   "source": [
    "# Load model\n",
    "net = Net()\n",
    "net.load_state_dict(torch.load(PATH))\n",
    "net.eval() # Set network to evaluation mode\n",
    "\n",
    "# Test network\n",
    "correct = 0\n",
    "total = 0\n",
    "with torch.no_grad():\n",
    "    for data in test_loader:\n",
    "        inputs, labels = data\n",
    "        outputs = net(inputs)\n",
    "        _, predicted = torch.max(outputs.data, 1)\n",
    "        total += labels.size(0)\n",
    "        correct += (predicted == labels).sum().item()\n",
    "\n",
    "print('Accuracy: %d %%' % (100 * correct / total))"
   ]
  },
  {
   "cell_type": "markdown",
   "metadata": {},
   "source": [
    "## Improving your model\n",
    "\n",
    "Once your model is done training, try tweaking your hyperparameters and training again below to improve your accuracy on the test set!"
   ]
  },
  {
   "cell_type": "code",
   "execution_count": 15,
   "metadata": {},
   "outputs": [
    {
     "name": "stdout",
     "output_type": "stream",
     "text": [
      "cuda:0\n"
     ]
    },
    {
     "data": {
      "text/plain": [
       "Net(\n",
       "  (fc1): Linear(in_features=784, out_features=100, bias=True)\n",
       "  (fc2): Linear(in_features=100, out_features=10, bias=True)\n",
       "  (dropout): Dropout(p=0.2, inplace=False)\n",
       ")"
      ]
     },
     "execution_count": 15,
     "metadata": {},
     "output_type": "execute_result"
    }
   ],
   "source": [
    "# hyperparameter tuning\n",
    "optimizer = optim.SGD(net.parameters(), lr=0.2, momentum=0.8)\n",
    "\n",
    "# Move network and data to GPU if available\n",
    "device = torch.device(\"cuda:0\" if torch.cuda.is_available() else \"cpu\")\n",
    "print(device)\n",
    "net.to(device)"
   ]
  },
  {
   "cell_type": "code",
   "execution_count": 16,
   "metadata": {},
   "outputs": [
    {
     "name": "stdout",
     "output_type": "stream",
     "text": [
      "[1,   100] loss: 0.077\n",
      "[1,   200] loss: 0.075\n",
      "[1,   300] loss: 0.080\n",
      "[1,   400] loss: 0.074\n",
      "[1,   500] loss: 0.084\n",
      "[1,   600] loss: 0.080\n",
      "[1,   700] loss: 0.093\n",
      "[1,   800] loss: 0.094\n",
      "[1,   900] loss: 0.075\n",
      "[2,   100] loss: 0.096\n",
      "[2,   200] loss: 0.070\n",
      "[2,   300] loss: 0.079\n",
      "[2,   400] loss: 0.078\n",
      "[2,   500] loss: 0.069\n",
      "[2,   600] loss: 0.095\n",
      "[2,   700] loss: 0.081\n",
      "[2,   800] loss: 0.075\n",
      "[2,   900] loss: 0.093\n",
      "[3,   100] loss: 0.097\n",
      "[3,   200] loss: 0.079\n",
      "[3,   300] loss: 0.070\n",
      "[3,   400] loss: 0.077\n",
      "[3,   500] loss: 0.072\n",
      "[3,   600] loss: 0.074\n",
      "[3,   700] loss: 0.077\n",
      "[3,   800] loss: 0.076\n",
      "[3,   900] loss: 0.081\n",
      "[4,   100] loss: 0.093\n",
      "[4,   200] loss: 0.075\n",
      "[4,   300] loss: 0.081\n",
      "[4,   400] loss: 0.073\n",
      "[4,   500] loss: 0.069\n",
      "[4,   600] loss: 0.087\n",
      "[4,   700] loss: 0.069\n",
      "[4,   800] loss: 0.080\n",
      "[4,   900] loss: 0.075\n",
      "[5,   100] loss: 0.109\n",
      "[5,   200] loss: 0.078\n",
      "[5,   300] loss: 0.072\n",
      "[5,   400] loss: 0.068\n",
      "[5,   500] loss: 0.064\n",
      "[5,   600] loss: 0.068\n",
      "[5,   700] loss: 0.073\n",
      "[5,   800] loss: 0.075\n",
      "[5,   900] loss: 0.073\n",
      "[6,   100] loss: 0.098\n",
      "[6,   200] loss: 0.070\n",
      "[6,   300] loss: 0.080\n",
      "[6,   400] loss: 0.066\n",
      "[6,   500] loss: 0.062\n",
      "[6,   600] loss: 0.061\n",
      "[6,   700] loss: 0.086\n",
      "[6,   800] loss: 0.070\n",
      "[6,   900] loss: 0.071\n",
      "[7,   100] loss: 0.100\n",
      "[7,   200] loss: 0.064\n",
      "[7,   300] loss: 0.075\n",
      "[7,   400] loss: 0.074\n",
      "[7,   500] loss: 0.076\n",
      "[7,   600] loss: 0.069\n",
      "[7,   700] loss: 0.069\n",
      "[7,   800] loss: 0.069\n",
      "[7,   900] loss: 0.078\n",
      "[8,   100] loss: 0.087\n",
      "[8,   200] loss: 0.069\n",
      "[8,   300] loss: 0.067\n",
      "[8,   400] loss: 0.069\n",
      "[8,   500] loss: 0.072\n",
      "[8,   600] loss: 0.060\n",
      "[8,   700] loss: 0.076\n",
      "[8,   800] loss: 0.064\n",
      "[8,   900] loss: 0.075\n",
      "[9,   100] loss: 0.088\n",
      "[9,   200] loss: 0.050\n",
      "[9,   300] loss: 0.057\n",
      "[9,   400] loss: 0.053\n",
      "[9,   500] loss: 0.071\n",
      "[9,   600] loss: 0.058\n",
      "[9,   700] loss: 0.064\n",
      "[9,   800] loss: 0.076\n",
      "[9,   900] loss: 0.074\n",
      "[10,   100] loss: 0.088\n",
      "[10,   200] loss: 0.067\n",
      "[10,   300] loss: 0.060\n",
      "[10,   400] loss: 0.061\n",
      "[10,   500] loss: 0.064\n",
      "[10,   600] loss: 0.073\n",
      "[10,   700] loss: 0.062\n",
      "[10,   800] loss: 0.070\n",
      "[10,   900] loss: 0.073\n",
      "[11,   100] loss: 0.084\n",
      "[11,   200] loss: 0.068\n",
      "[11,   300] loss: 0.072\n",
      "[11,   400] loss: 0.057\n",
      "[11,   500] loss: 0.066\n",
      "[11,   600] loss: 0.064\n",
      "[11,   700] loss: 0.061\n",
      "[11,   800] loss: 0.060\n",
      "[11,   900] loss: 0.076\n",
      "[12,   100] loss: 0.092\n",
      "[12,   200] loss: 0.061\n",
      "[12,   300] loss: 0.069\n",
      "[12,   400] loss: 0.072\n",
      "[12,   500] loss: 0.061\n",
      "[12,   600] loss: 0.068\n",
      "[12,   700] loss: 0.071\n",
      "[12,   800] loss: 0.057\n",
      "[12,   900] loss: 0.068\n",
      "[13,   100] loss: 0.088\n",
      "[13,   200] loss: 0.049\n",
      "[13,   300] loss: 0.069\n",
      "[13,   400] loss: 0.055\n",
      "[13,   500] loss: 0.079\n",
      "[13,   600] loss: 0.063\n",
      "[13,   700] loss: 0.063\n",
      "[13,   800] loss: 0.059\n",
      "[13,   900] loss: 0.050\n",
      "[14,   100] loss: 0.082\n",
      "[14,   200] loss: 0.067\n",
      "[14,   300] loss: 0.054\n",
      "[14,   400] loss: 0.064\n",
      "[14,   500] loss: 0.070\n",
      "[14,   600] loss: 0.050\n",
      "[14,   700] loss: 0.065\n",
      "[14,   800] loss: 0.055\n",
      "[14,   900] loss: 0.060\n",
      "[15,   100] loss: 0.087\n",
      "[15,   200] loss: 0.060\n",
      "[15,   300] loss: 0.074\n",
      "[15,   400] loss: 0.064\n",
      "[15,   500] loss: 0.056\n",
      "[15,   600] loss: 0.057\n",
      "[15,   700] loss: 0.069\n",
      "[15,   800] loss: 0.068\n",
      "[15,   900] loss: 0.065\n",
      "[16,   100] loss: 0.084\n",
      "[16,   200] loss: 0.058\n",
      "[16,   300] loss: 0.066\n",
      "[16,   400] loss: 0.066\n",
      "[16,   500] loss: 0.059\n",
      "[16,   600] loss: 0.052\n",
      "[16,   700] loss: 0.052\n",
      "[16,   800] loss: 0.065\n",
      "[16,   900] loss: 0.058\n",
      "[17,   100] loss: 0.092\n",
      "[17,   200] loss: 0.060\n",
      "[17,   300] loss: 0.048\n",
      "[17,   400] loss: 0.053\n",
      "[17,   500] loss: 0.053\n",
      "[17,   600] loss: 0.053\n",
      "[17,   700] loss: 0.059\n",
      "[17,   800] loss: 0.062\n",
      "[17,   900] loss: 0.059\n",
      "[18,   100] loss: 0.082\n",
      "[18,   200] loss: 0.059\n",
      "[18,   300] loss: 0.061\n",
      "[18,   400] loss: 0.058\n",
      "[18,   500] loss: 0.056\n",
      "[18,   600] loss: 0.061\n",
      "[18,   700] loss: 0.056\n",
      "[18,   800] loss: 0.061\n",
      "[18,   900] loss: 0.063\n",
      "[19,   100] loss: 0.074\n",
      "[19,   200] loss: 0.058\n",
      "[19,   300] loss: 0.056\n",
      "[19,   400] loss: 0.054\n",
      "[19,   500] loss: 0.061\n",
      "[19,   600] loss: 0.055\n",
      "[19,   700] loss: 0.052\n",
      "[19,   800] loss: 0.063\n",
      "[19,   900] loss: 0.070\n",
      "[20,   100] loss: 0.071\n",
      "[20,   200] loss: 0.061\n",
      "[20,   300] loss: 0.061\n",
      "[20,   400] loss: 0.053\n",
      "[20,   500] loss: 0.044\n",
      "[20,   600] loss: 0.059\n",
      "[20,   700] loss: 0.052\n",
      "[20,   800] loss: 0.045\n",
      "[20,   900] loss: 0.058\n"
     ]
    }
   ],
   "source": [
    "train_loss = train(net, train_loader, criterion, optimizer, device, epochs=20, print_every=100)"
   ]
  },
  {
   "cell_type": "code",
   "execution_count": 17,
   "metadata": {},
   "outputs": [
    {
     "data": {
      "image/png": "[encoded data removed]",
      "text/plain": [
       "<Figure size 432x288 with 1 Axes>"
      ]
     },
     "metadata": {
      "needs_background": "light"
     },
     "output_type": "display_data"
    }
   ],
   "source": [
    "plot_losses(train_loss)"
   ]
  },
  {
   "cell_type": "markdown",
   "metadata": {},
   "source": [
    "## Saving your model\n",
    "Using `torch.save`, save your model for future loading."
   ]
  },
  {
   "cell_type": "code",
   "execution_count": 18,
   "metadata": {},
   "outputs": [],
   "source": [
    "# Save model\n",
    "PATH = './mnist_net.pth'\n",
    "torch.save(net.state_dict(), PATH)"
   ]
  }
 ],
 "metadata": {
  "kernelspec": {
   "display_name": "Python 3",
   "language": "python",
   "name": "python3"
  },
  "language_info": {
   "codemirror_mode": {
    "name": "ipython",
    "version": 3
   },
   "file_extension": ".py",
   "mimetype": "text/x-python",
   "name": "python",
   "nbconvert_exporter": "python",
   "pygments_lexer": "ipython3",
   "version": "3.7.6"
  }
 },
 "nbformat": 4,
 "nbformat_minor": 4
}
